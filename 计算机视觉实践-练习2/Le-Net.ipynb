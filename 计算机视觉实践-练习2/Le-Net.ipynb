{
 "cells": [
  {
   "cell_type": "code",
   "execution_count": 15,
   "metadata": {},
   "outputs": [
    {
     "name": "stdout",
     "output_type": "stream",
     "text": [
      "Looking in indexes: https://pypi.tuna.tsinghua.edu.cn/simple\n",
      "Collecting mindspore==2.2.14\n",
      "  Using cached https://ms-release.obs.cn-north-4.myhuaweicloud.com/2.2.14/MindSpore/cpu/x86_64/mindspore-2.2.14-cp37-cp37m-win_amd64.whl (74.9 MB)\n",
      "Requirement already satisfied: astunparse>=1.6.3 in d:\\anaconda\\envs\\acgids\\lib\\site-packages (from mindspore==2.2.14) (1.6.3)\n",
      "Requirement already satisfied: scipy>=1.5.4 in d:\\anaconda\\envs\\acgids\\lib\\site-packages (from mindspore==2.2.14) (1.7.3)\n",
      "Requirement already satisfied: pillow>=6.2.0 in c:\\users\\administrator\\appdata\\roaming\\python\\python37\\site-packages (from mindspore==2.2.14) (9.5.0)\n",
      "Requirement already satisfied: numpy>=1.17.0 in d:\\anaconda\\envs\\acgids\\lib\\site-packages (from mindspore==2.2.14) (1.21.6)\n",
      "Requirement already satisfied: protobuf>=3.13.0 in c:\\users\\administrator\\appdata\\roaming\\python\\python37\\site-packages (from mindspore==2.2.14) (4.24.4)\n",
      "Requirement already satisfied: asttokens>=2.0.4 in d:\\anaconda\\envs\\acgids\\lib\\site-packages (from mindspore==2.2.14) (2.4.1)\n",
      "Requirement already satisfied: psutil>=5.6.1 in d:\\anaconda\\envs\\acgids\\lib\\site-packages (from mindspore==2.2.14) (5.9.8)\n",
      "Requirement already satisfied: packaging>=20.0 in d:\\anaconda\\envs\\acgids\\lib\\site-packages (from mindspore==2.2.14) (24.0)\n",
      "Requirement already satisfied: six>=1.12.0 in c:\\users\\administrator\\appdata\\roaming\\python\\python37\\site-packages (from asttokens>=2.0.4->mindspore==2.2.14) (1.16.0)\n",
      "Requirement already satisfied: wheel<1.0,>=0.23.0 in d:\\anaconda\\envs\\acgids\\lib\\site-packages (from astunparse>=1.6.3->mindspore==2.2.14) (0.38.4)\n"
     ]
    }
   ],
   "source": [
    "! pip install https://ms-release.obs.cn-north-4.myhuaweicloud.com/2.2.14/MindSpore/cpu/x86_64/mindspore-2.2.14-cp37-cp37m-win_amd64.whl --trusted-host ms-release.obs.cn-north-4.myhuaweicloud.com -i https://pypi.tuna.tsinghua.edu.cn/simple"
   ]
  },
  {
   "cell_type": "code",
   "execution_count": 1,
   "metadata": {},
   "outputs": [
    {
     "name": "stdout",
     "output_type": "stream",
     "text": [
      "MindSpore version:  2.2.14\n",
      "The result of multiplication calculation is correct, MindSpore has been installed on platform [CPU] successfully!\n"
     ]
    }
   ],
   "source": [
    "import mindspore\n",
    "mindspore.set_context(device_target='CPU')\n",
    "mindspore.run_check()"
   ]
  },
  {
   "cell_type": "code",
   "execution_count": 8,
   "metadata": {},
   "outputs": [
    {
     "name": "stdout",
     "output_type": "stream",
     "text": [
      "Requirement already satisfied: mindspore==2.2.14 in d:\\anaconda\\envs\\acgids\\lib\\site-packages (2.2.14)\n",
      "Requirement already satisfied: asttokens>=2.0.4 in d:\\anaconda\\envs\\acgids\\lib\\site-packages (from mindspore==2.2.14) (2.4.1)\n",
      "Requirement already satisfied: protobuf>=3.13.0 in c:\\users\\administrator\\appdata\\roaming\\python\\python37\\site-packages (from mindspore==2.2.14) (4.24.4)\n",
      "Requirement already satisfied: numpy>=1.17.0 in d:\\anaconda\\envs\\acgids\\lib\\site-packages (from mindspore==2.2.14) (1.21.6)\n",
      "Requirement already satisfied: packaging>=20.0 in d:\\anaconda\\envs\\acgids\\lib\\site-packages (from mindspore==2.2.14) (24.0)\n",
      "Requirement already satisfied: pillow>=6.2.0 in c:\\users\\administrator\\appdata\\roaming\\python\\python37\\site-packages (from mindspore==2.2.14) (9.5.0)\n",
      "Requirement already satisfied: psutil>=5.6.1 in d:\\anaconda\\envs\\acgids\\lib\\site-packages (from mindspore==2.2.14) (5.9.8)\n",
      "Requirement already satisfied: astunparse>=1.6.3 in d:\\anaconda\\envs\\acgids\\lib\\site-packages (from mindspore==2.2.14) (1.6.3)\n",
      "Requirement already satisfied: scipy>=1.5.4 in d:\\anaconda\\envs\\acgids\\lib\\site-packages (from mindspore==2.2.14) (1.7.3)\n",
      "Requirement already satisfied: six>=1.12.0 in c:\\users\\administrator\\appdata\\roaming\\python\\python37\\site-packages (from asttokens>=2.0.4->mindspore==2.2.14) (1.16.0)\n",
      "Requirement already satisfied: wheel<1.0,>=0.23.0 in d:\\anaconda\\envs\\acgids\\lib\\site-packages (from astunparse>=1.6.3->mindspore==2.2.14) (0.38.4)\n"
     ]
    }
   ],
   "source": [
    "! pip install --upgrade mindspore==2.2.14 --user"
   ]
  },
  {
   "cell_type": "code",
   "execution_count": 8,
   "metadata": {},
   "outputs": [
    {
     "name": "stdout",
     "output_type": "stream",
     "text": [
      "Collecting mindvision\n",
      "  Downloading mindvision-0.1.0-py3-none-any.whl (194 kB)\n",
      "     ------------------------------------ 194.1/194.1 kB 510.8 kB/s eta 0:00:00\n",
      "Requirement already satisfied: numpy>=1.17.0 in d:\\anaconda\\envs\\acgids\\lib\\site-packages (from mindvision) (1.21.6)\n",
      "Collecting opencv-contrib-python-headless\n"
     ]
    },
    {
     "name": "stdout",
     "output_type": "stream",
     "text": [
      "  Downloading opencv_contrib_python_headless-4.9.0.80-cp37-abi3-win_amd64.whl (45.2 MB)\n",
      "     --------------------------------------- 45.2/45.2 MB 10.1 MB/s eta 0:00:00\n",
      "Requirement already satisfied: pillow>=6.2.0 in c:\\users\\administrator\\appdata\\roaming\\python\\python37\\site-packages (from mindvision) (9.5.0)\n",
      "Requirement already satisfied: scipy>=1.5.2 in d:\\anaconda\\envs\\acgids\\lib\\site-packages (from mindvision) (1.7.3)\n",
      "Requirement already satisfied: setuptools>=40.8.0 in d:\\anaconda\\envs\\acgids\\lib\\site-packages (from mindvision) (65.6.3)\n",
      "Collecting scikit-learn>=0.23.1\n",
      "  Downloading scikit_learn-1.0.2-cp37-cp37m-win_amd64.whl (7.1 MB)\n",
      "     ---------------------------------------- 7.1/7.1 MB 7.6 MB/s eta 0:00:00\n",
      "Collecting easydict>=1.9\n",
      "  Downloading easydict-1.13-py3-none-any.whl (6.8 kB)\n",
      "Collecting pytest>=4.3.1\n",
      "  Downloading pytest-7.4.4-py3-none-any.whl (325 kB)\n",
      "     -------------------------------------- 325.3/325.3 kB 6.7 MB/s eta 0:00:00\n",
      "Requirement already satisfied: tqdm in c:\\users\\administrator\\appdata\\roaming\\python\\python37\\site-packages (from mindvision) (4.33.0)\n",
      "Requirement already satisfied: wheel>=0.32.0 in d:\\anaconda\\envs\\acgids\\lib\\site-packages (from mindvision) (0.38.4)\n",
      "Collecting opencv-python-headless\n",
      "  Downloading opencv_python_headless-4.9.0.80-cp37-abi3-win_amd64.whl (38.5 MB)\n",
      "     ---------------------------------------- 38.5/38.5 MB 5.0 MB/s eta 0:00:00\n",
      "Requirement already satisfied: matplotlib>=3.2.1 in c:\\users\\administrator\\appdata\\roaming\\python\\python37\\site-packages (from mindvision) (3.4.3)\n",
      "Collecting ml-collections\n",
      "  Downloading ml_collections-0.1.1.tar.gz (77 kB)\n",
      "     ---------------------------------------- 77.9/77.9 kB 4.2 MB/s eta 0:00:00\n",
      "  Preparing metadata (setup.py): started\n",
      "  Preparing metadata (setup.py): finished with status 'done'\n",
      "Requirement already satisfied: kiwisolver>=1.0.1 in c:\\users\\administrator\\appdata\\roaming\\python\\python37\\site-packages (from matplotlib>=3.2.1->mindvision) (1.4.5)\n",
      "Requirement already satisfied: cycler>=0.10 in c:\\users\\administrator\\appdata\\roaming\\python\\python37\\site-packages (from matplotlib>=3.2.1->mindvision) (0.11.0)\n",
      "Requirement already satisfied: pyparsing>=2.2.1 in c:\\users\\administrator\\appdata\\roaming\\python\\python37\\site-packages (from matplotlib>=3.2.1->mindvision) (3.1.2)\n",
      "Requirement already satisfied: python-dateutil>=2.7 in c:\\users\\administrator\\appdata\\roaming\\python\\python37\\site-packages (from matplotlib>=3.2.1->mindvision) (2.9.0.post0)\n",
      "Collecting exceptiongroup>=1.0.0rc8\n",
      "  Downloading exceptiongroup-1.2.1-py3-none-any.whl (16 kB)\n",
      "Collecting tomli>=1.0.0\n",
      "  Using cached tomli-2.0.1-py3-none-any.whl (12 kB)\n",
      "Requirement already satisfied: importlib-metadata>=0.12 in c:\\users\\administrator\\appdata\\roaming\\python\\python37\\site-packages (from pytest>=4.3.1->mindvision) (4.2.0)\n",
      "Requirement already satisfied: packaging in d:\\anaconda\\envs\\acgids\\lib\\site-packages (from pytest>=4.3.1->mindvision) (24.0)\n",
      "Requirement already satisfied: colorama in c:\\users\\administrator\\appdata\\roaming\\python\\python37\\site-packages (from pytest>=4.3.1->mindvision) (0.4.6)\n",
      "Collecting iniconfig\n",
      "  Downloading iniconfig-2.0.0-py3-none-any.whl (5.9 kB)\n",
      "Collecting pluggy<2.0,>=0.12\n",
      "  Downloading pluggy-1.2.0-py3-none-any.whl (17 kB)\n",
      "Requirement already satisfied: joblib>=0.11 in c:\\users\\administrator\\appdata\\roaming\\python\\python37\\site-packages (from scikit-learn>=0.23.1->mindvision) (1.3.2)\n",
      "Collecting threadpoolctl>=2.0.0\n",
      "  Downloading threadpoolctl-3.1.0-py3-none-any.whl (14 kB)\n",
      "Collecting absl-py\n",
      "  Using cached absl_py-2.1.0-py3-none-any.whl (133 kB)\n",
      "Requirement already satisfied: PyYAML in c:\\users\\administrator\\appdata\\roaming\\python\\python37\\site-packages (from ml-collections->mindvision) (6.0.1)\n",
      "Requirement already satisfied: six in c:\\users\\administrator\\appdata\\roaming\\python\\python37\\site-packages (from ml-collections->mindvision) (1.16.0)\n",
      "Collecting contextlib2\n",
      "  Downloading contextlib2-21.6.0-py2.py3-none-any.whl (13 kB)\n",
      "Requirement already satisfied: zipp>=0.5 in c:\\users\\administrator\\appdata\\roaming\\python\\python37\\site-packages (from importlib-metadata>=0.12->pytest>=4.3.1->mindvision) (3.15.0)\n",
      "Requirement already satisfied: typing-extensions>=3.6.4 in c:\\users\\administrator\\appdata\\roaming\\python\\python37\\site-packages (from importlib-metadata>=0.12->pytest>=4.3.1->mindvision) (4.7.1)\n",
      "Building wheels for collected packages: ml-collections\n",
      "  Building wheel for ml-collections (setup.py): started\n",
      "  Building wheel for ml-collections (setup.py): finished with status 'done'\n",
      "  Created wheel for ml-collections: filename=ml_collections-0.1.1-py3-none-any.whl size=94587 sha256=0155c4e5958dcb69976891b54763d3c31d56591cbf552af69d19f55386c44ee3\n",
      "  Stored in directory: c:\\users\\administrator\\appdata\\local\\pip\\cache\\wheels\\6a\\1f\\28\\926877e62580e3ef78944c6b21b40ed3d300b0b83a7fa925ac\n",
      "Successfully built ml-collections\n",
      "Installing collected packages: easydict, tomli, threadpoolctl, opencv-python-headless, opencv-contrib-python-headless, iniconfig, exceptiongroup, contextlib2, absl-py, scikit-learn, pluggy, ml-collections, pytest, mindvision\n",
      "  Attempting uninstall: scikit-learn\n",
      "    Found existing installation: scikit-learn 0.21.2\n",
      "    Uninstalling scikit-learn-0.21.2:\n",
      "      Successfully uninstalled scikit-learn-0.21.2\n",
      "Successfully installed absl-py-2.1.0 contextlib2-21.6.0 easydict-1.13 exceptiongroup-1.2.1 iniconfig-2.0.0 mindvision-0.1.0 ml-collections-0.1.1 opencv-contrib-python-headless-4.9.0.80 opencv-python-headless-4.9.0.80 pluggy-1.2.0 pytest-7.4.4 scikit-learn-1.0.2 threadpoolctl-3.1.0 tomli-2.0.1\n"
     ]
    }
   ],
   "source": [
    "! pip install mindvision"
   ]
  },
  {
   "cell_type": "code",
   "execution_count": null,
   "metadata": {},
   "outputs": [
    {
     "name": "stdout",
     "output_type": "stream",
     "text": [
      "Requirement already satisfied: visualdl in c:\\users\\administrator\\appdata\\roaming\\python\\python37\\site-packages (2.2.0)\n",
      "Requirement already satisfied: requests in c:\\users\\administrator\\appdata\\roaming\\python\\python37\\site-packages (from visualdl) (2.31.0)\n",
      "Requirement already satisfied: shellcheck-py in c:\\users\\administrator\\appdata\\roaming\\python\\python37\\site-packages (from visualdl) (0.9.0.5)\n",
      "Requirement already satisfied: protobuf>=3.11.0 in c:\\users\\administrator\\appdata\\roaming\\python\\python37\\site-packages (from visualdl) (4.24.4)\n",
      "Requirement already satisfied: flask>=1.1.1 in c:\\users\\administrator\\appdata\\roaming\\python\\python37\\site-packages (from visualdl) (2.2.5)\n",
      "Requirement already satisfied: Flask-Babel>=1.0.0 in c:\\users\\administrator\\appdata\\roaming\\python\\python37\\site-packages (from visualdl) (3.1.0)\n",
      "Requirement already satisfied: flake8>=3.7.9 in c:\\users\\administrator\\appdata\\roaming\\python\\python37\\site-packages (from visualdl) (5.0.4)\n",
      "Requirement already satisfied: Pillow>=7.0.0 in c:\\users\\administrator\\appdata\\roaming\\python\\python37\\site-packages (from visualdl) (9.5.0)\n",
      "Requirement already satisfied: pre-commit in c:\\users\\administrator\\appdata\\roaming\\python\\python37\\site-packages (from visualdl) (2.21.0)\n",
      "Requirement already satisfied: numpy in d:\\anaconda\\envs\\acgids\\lib\\site-packages (from visualdl) (1.21.6)\n"
     ]
    },
    {
     "name": "stdout",
     "output_type": "stream",
     "text": [
      "Requirement already satisfied: matplotlib in c:\\users\\administrator\\appdata\\roaming\\python\\python37\\site-packages (from visualdl) (3.4.3)\n",
      "Requirement already satisfied: bce-python-sdk in c:\\users\\administrator\\appdata\\roaming\\python\\python37\\site-packages (from visualdl) (0.9.6)\n",
      "Requirement already satisfied: six>=1.14.0 in c:\\users\\administrator\\appdata\\roaming\\python\\python37\\site-packages (from visualdl) (1.16.0)\n",
      "Requirement already satisfied: pandas in c:\\users\\administrator\\appdata\\roaming\\python\\python37\\site-packages (from visualdl) (1.1.5)\n",
      "Requirement already satisfied: pycodestyle<2.10.0,>=2.9.0 in c:\\users\\administrator\\appdata\\roaming\\python\\python37\\site-packages (from flake8>=3.7.9->visualdl) (2.9.1)\n",
      "Requirement already satisfied: mccabe<0.8.0,>=0.7.0 in c:\\users\\administrator\\appdata\\roaming\\python\\python37\\site-packages (from flake8>=3.7.9->visualdl) (0.7.0)\n",
      "Requirement already satisfied: importlib-metadata<4.3,>=1.1.0 in c:\\users\\administrator\\appdata\\roaming\\python\\python37\\site-packages (from flake8>=3.7.9->visualdl) (4.2.0)\n",
      "Requirement already satisfied: pyflakes<2.6.0,>=2.5.0 in c:\\users\\administrator\\appdata\\roaming\\python\\python37\\site-packages (from flake8>=3.7.9->visualdl) (2.5.0)\n",
      "Requirement already satisfied: Jinja2>=3.0 in c:\\users\\administrator\\appdata\\roaming\\python\\python37\\site-packages (from flask>=1.1.1->visualdl) (3.1.3)\n",
      "Requirement already satisfied: itsdangerous>=2.0 in c:\\users\\administrator\\appdata\\roaming\\python\\python37\\site-packages (from flask>=1.1.1->visualdl) (2.1.2)\n",
      "Requirement already satisfied: click>=8.0 in c:\\users\\administrator\\appdata\\roaming\\python\\python37\\site-packages (from flask>=1.1.1->visualdl) (8.1.7)\n",
      "Requirement already satisfied: Werkzeug>=2.2.2 in c:\\users\\administrator\\appdata\\roaming\\python\\python37\\site-packages (from flask>=1.1.1->visualdl) (2.2.3)\n",
      "Requirement already satisfied: pytz>=2022.7 in c:\\users\\administrator\\appdata\\roaming\\python\\python37\\site-packages (from Flask-Babel>=1.0.0->visualdl) (2024.1)\n",
      "Requirement already satisfied: Babel>=2.12 in c:\\users\\administrator\\appdata\\roaming\\python\\python37\\site-packages (from Flask-Babel>=1.0.0->visualdl) (2.14.0)\n",
      "Requirement already satisfied: pycryptodome>=3.8.0 in c:\\users\\administrator\\appdata\\roaming\\python\\python37\\site-packages (from bce-python-sdk->visualdl) (3.20.0)\n",
      "Requirement already satisfied: future>=0.6.0 in c:\\users\\administrator\\appdata\\roaming\\python\\python37\\site-packages (from bce-python-sdk->visualdl) (1.0.0)\n",
      "Requirement already satisfied: kiwisolver>=1.0.1 in c:\\users\\administrator\\appdata\\roaming\\python\\python37\\site-packages (from matplotlib->visualdl) (1.4.5)\n",
      "Requirement already satisfied: pyparsing>=2.2.1 in c:\\users\\administrator\\appdata\\roaming\\python\\python37\\site-packages (from matplotlib->visualdl) (3.1.2)\n",
      "Requirement already satisfied: cycler>=0.10 in c:\\users\\administrator\\appdata\\roaming\\python\\python37\\site-packages (from matplotlib->visualdl) (0.11.0)\n",
      "Requirement already satisfied: python-dateutil>=2.7 in c:\\users\\administrator\\appdata\\roaming\\python\\python37\\site-packages (from matplotlib->visualdl) (2.9.0.post0)\n",
      "Requirement already satisfied: nodeenv>=0.11.1 in c:\\users\\administrator\\appdata\\roaming\\python\\python37\\site-packages (from pre-commit->visualdl) (1.8.0)\n",
      "Requirement already satisfied: pyyaml>=5.1 in c:\\users\\administrator\\appdata\\roaming\\python\\python37\\site-packages (from pre-commit->visualdl) (6.0.1)\n",
      "Requirement already satisfied: cfgv>=2.0.0 in c:\\users\\administrator\\appdata\\roaming\\python\\python37\\site-packages (from pre-commit->visualdl) (3.3.1)\n",
      "Requirement already satisfied: identify>=1.0.0 in c:\\users\\administrator\\appdata\\roaming\\python\\python37\\site-packages (from pre-commit->visualdl) (2.5.24)\n",
      "Requirement already satisfied: virtualenv>=20.10.0 in c:\\users\\administrator\\appdata\\roaming\\python\\python37\\site-packages (from pre-commit->visualdl) (20.16.2)\n",
      "Requirement already satisfied: urllib3<3,>=1.21.1 in c:\\users\\administrator\\appdata\\roaming\\python\\python37\\site-packages (from requests->visualdl) (2.0.7)\n",
      "Requirement already satisfied: certifi>=2017.4.17 in d:\\anaconda\\envs\\acgids\\lib\\site-packages (from requests->visualdl) (2022.12.7)\n",
      "Requirement already satisfied: charset-normalizer<4,>=2 in c:\\users\\administrator\\appdata\\roaming\\python\\python37\\site-packages (from requests->visualdl) (3.3.2)\n",
      "Requirement already satisfied: idna<4,>=2.5 in c:\\users\\administrator\\appdata\\roaming\\python\\python37\\site-packages (from requests->visualdl) (3.6)\n",
      "Requirement already satisfied: colorama in c:\\users\\administrator\\appdata\\roaming\\python\\python37\\site-packages (from click>=8.0->flask>=1.1.1->visualdl) (0.4.6)\n",
      "Requirement already satisfied: zipp>=0.5 in c:\\users\\administrator\\appdata\\roaming\\python\\python37\\site-packages (from importlib-metadata<4.3,>=1.1.0->flake8>=3.7.9->visualdl) (3.15.0)\n",
      "Requirement already satisfied: typing-extensions>=3.6.4 in c:\\users\\administrator\\appdata\\roaming\\python\\python37\\site-packages (from importlib-metadata<4.3,>=1.1.0->flake8>=3.7.9->visualdl) (4.7.1)\n",
      "Requirement already satisfied: MarkupSafe>=2.0 in c:\\users\\administrator\\appdata\\roaming\\python\\python37\\site-packages (from Jinja2>=3.0->flask>=1.1.1->visualdl) (2.1.5)\n",
      "Requirement already satisfied: setuptools in d:\\anaconda\\envs\\acgids\\lib\\site-packages (from nodeenv>=0.11.1->pre-commit->visualdl) (65.6.3)\n",
      "Requirement already satisfied: filelock<4,>=3.2 in c:\\users\\administrator\\appdata\\roaming\\python\\python37\\site-packages (from virtualenv>=20.10.0->pre-commit->visualdl) (3.12.2)\n",
      "Requirement already satisfied: distlib<1,>=0.3.1 in c:\\users\\administrator\\appdata\\roaming\\python\\python37\\site-packages (from virtualenv>=20.10.0->pre-commit->visualdl) (0.3.8)\n",
      "Requirement already satisfied: platformdirs<3,>=2 in c:\\users\\administrator\\appdata\\roaming\\python\\python37\\site-packages (from virtualenv>=20.10.0->pre-commit->visualdl) (2.6.2)\n"
     ]
    }
   ],
   "source": [
    "! pip install visualdl"
   ]
  },
  {
   "cell_type": "code",
   "execution_count": 31,
   "metadata": {},
   "outputs": [
    {
     "name": "stdout",
     "output_type": "stream",
     "text": [
      "Downloading data from https://mindspore-website.obs.cn-north-4.myhuaweicloud.com/notebook/datasets/MNIST_Data.zip (10.3 MB)\n",
      "\n",
      "file_sizes: 100%|██████████████████████████| 10.8M/10.8M [00:01<00:00, 7.22MB/s]\n",
      "Extracting zip file...\n",
      "Successfully downloaded / unzipped to ./\n"
     ]
    }
   ],
   "source": [
    "# 下载mnist数据集\n",
    "from download import download\n",
    "\n",
    "url = \"https://mindspore-website.obs.cn-north-4.myhuaweicloud.com/\" \\\n",
    "      \"notebook/datasets/MNIST_Data.zip\"\n",
    "path = download(url, \"./\", kind=\"zip\", replace=True)\n"
   ]
  },
  {
   "cell_type": "code",
   "execution_count": 14,
   "metadata": {},
   "outputs": [],
   "source": [
    "import mindspore\n",
    "from mindspore import nn\n",
    "from mindspore.dataset import vision, transforms\n",
    "from mindspore.dataset import MnistDataset\n"
   ]
  },
  {
   "cell_type": "code",
   "execution_count": 34,
   "metadata": {},
   "outputs": [],
   "source": [
    "from visualdl import LogWriter\n",
    "\n",
    "# 初始化日志写入器，指定日志文件存放路径\n",
    "log_writer = LogWriter(logdir=\"log\", name = \"train_log\")\n",
    "\n",
    "# 可以使用 log_writer 来记录数据"
   ]
  },
  {
   "cell_type": "code",
   "execution_count": 16,
   "metadata": {},
   "outputs": [],
   "source": [
    "# 定义记录损失和准确率的辅助函数\n",
    "def add_scalar(tag, step, value):\n",
    "    log_writer.add_scalar(tag=tag, step=step, value=value)"
   ]
  },
  {
   "cell_type": "code",
   "execution_count": 17,
   "metadata": {},
   "outputs": [],
   "source": [
    "train_dataset = MnistDataset('MNIST_Data/train')\n",
    "test_dataset = MnistDataset('MNIST_Data/test')\n"
   ]
  },
  {
   "cell_type": "code",
   "execution_count": 18,
   "metadata": {},
   "outputs": [
    {
     "name": "stdout",
     "output_type": "stream",
     "text": [
      "['image', 'label']\n"
     ]
    }
   ],
   "source": [
    "print(train_dataset.get_col_names())"
   ]
  },
  {
   "cell_type": "code",
   "execution_count": 19,
   "metadata": {},
   "outputs": [],
   "source": [
    "# 数据处理流水线，使用map对图像数据及标签进行变换处理，然后将处理好的数据集打包为大小64的批次，送入模型进行训练。\n",
    "def datapipe(dataset, batch_size):\n",
    "    image_transforms = [\n",
    "        vision.Rescale(1.0 / 255.0, 0),\n",
    "        vision.Normalize(mean=(0.1307,), std=(0.3081,)),\n",
    "        vision.HWC2CHW()\n",
    "    ]\n",
    "    label_transform = transforms.TypeCast(mindspore.int32)\n",
    "    \n",
    "    dataset = dataset.map(image_transforms, 'image')\n",
    "    dataset = dataset.map(label_transform, 'label')\n",
    "    dataset = dataset.batch(batch_size)\n",
    "    return dataset\n"
   ]
  },
  {
   "cell_type": "code",
   "execution_count": 20,
   "metadata": {},
   "outputs": [],
   "source": [
    "# 转换数据集\n",
    "train_dataset = datapipe(train_dataset, 64)\n",
    "test_dataset = datapipe(test_dataset, 64)"
   ]
  },
  {
   "cell_type": "code",
   "execution_count": 23,
   "metadata": {},
   "outputs": [],
   "source": [
    "import mindspore.nn as nn\n",
    "from mindspore.common.initializer import Normal\n",
    "\n",
    "class LeNet5(nn.Cell):\n",
    "    def __init__(self, num_class=10):\n",
    "        super(LeNet5, self).__init__()\n",
    "        # weight_init = Normal(0.02)\n",
    "        self.conv1 = nn.Conv2d(1, 6, 5, pad_mode='valid')\n",
    "        self.conv2 = nn.Conv2d(6, 16, 5, pad_mode='valid')\n",
    "        \n",
    "        # 根据卷积层和池化层后的数据尺寸计算全连接层的输入特征数\n",
    "        # 假设输入图像尺寸为 28x28\n",
    "        # conv1 后尺寸变为 24x24，池化后变为 12x12\n",
    "        # conv2 后尺寸变为 4x4，池化后仍然为 4x4（因为已经是最小尺寸）\n",
    "        self.in_channels_fc1 = 16 * 4 * 4  # conv2 后尺寸变为 4x4，通道数为 16\n",
    "        \n",
    "        self.fc1 = nn.Dense(self.in_channels_fc1, 120)\n",
    "        self.fc2 = nn.Dense(120, 84)\n",
    "        self.fc3 = nn.Dense(84, num_class)\n",
    "        \n",
    "        self.relu = nn.ReLU()\n",
    "        self.max_pool2d = nn.MaxPool2d(kernel_size=2, stride=2)\n",
    "        self.flatten = nn.Flatten()\n",
    "\n",
    "    def construct(self, x):\n",
    "        x = self.conv1(x)\n",
    "        x = self.relu(x)\n",
    "        x = self.max_pool2d(x)  # conv1 后尺寸变为 24x24，池化后变为 12x12\n",
    "        x = self.conv2(x)\n",
    "        x = self.relu(x)\n",
    "        x = self.max_pool2d(x)  # conv2 后尺寸变为 4x4（因为有 'valid' 填充）\n",
    "        x = self.flatten(x)\n",
    "        x = self.fc1(x)\n",
    "        x = self.relu(x)\n",
    "        x = self.fc2(x)\n",
    "        x = self.relu(x)\n",
    "        x = self.fc3(x)\n",
    "        return x"
   ]
  },
  {
   "cell_type": "code",
   "execution_count": 24,
   "metadata": {},
   "outputs": [
    {
     "name": "stdout",
     "output_type": "stream",
     "text": [
      "LeNet5<\n",
      "  (conv1): Conv2d<input_channels=1, output_channels=6, kernel_size=(5, 5), stride=(1, 1), pad_mode=valid, padding=0, dilation=(1, 1), group=1, has_bias=False, weight_init=<mindspore.common.initializer.HeUniform object at 0x00000203F458FB08>, bias_init=None, format=NCHW>\n",
      "  (conv2): Conv2d<input_channels=6, output_channels=16, kernel_size=(5, 5), stride=(1, 1), pad_mode=valid, padding=0, dilation=(1, 1), group=1, has_bias=False, weight_init=<mindspore.common.initializer.HeUniform object at 0x00000203FB54B688>, bias_init=None, format=NCHW>\n",
      "  (fc1): Dense<input_channels=256, output_channels=120, has_bias=True>\n",
      "  (fc2): Dense<input_channels=120, output_channels=84, has_bias=True>\n",
      "  (fc3): Dense<input_channels=84, output_channels=10, has_bias=True>\n",
      "  (relu): ReLU<>\n",
      "  (max_pool2d): MaxPool2d<kernel_size=2, stride=2, pad_mode=VALID>\n",
      "  (flatten): Flatten<>\n",
      "  >\n"
     ]
    }
   ],
   "source": [
    "model = LeNet5()\n",
    "\n",
    "# from mindvision.classification.models import lenet\n",
    "# model = lenet(num_classes=10, pretrained=False)\n",
    "print(model)"
   ]
  },
  {
   "cell_type": "code",
   "execution_count": 25,
   "metadata": {},
   "outputs": [],
   "source": [
    "# 定义损失函数和优化器\n",
    "loss_fn = nn.CrossEntropyLoss()\n",
    "optimizer = nn.SGD(model.trainable_params(), 1e-2)\n",
    "\n",
    "# 定义前向函数\n",
    "def forward_fn(data, label):\n",
    "    logits = model(data)\n",
    "    loss = loss_fn(logits, label)\n",
    "    return loss, logits\n",
    "\n",
    "# 定义梯度函数\n",
    "grad_fn = mindspore.value_and_grad(forward_fn, None, optimizer.parameters, has_aux=True)\n",
    "\n",
    "# 定义一步训练以及训练函数\n",
    "def train_step(data, label):\n",
    "    (loss, _), grads = grad_fn(data, label)\n",
    "    optimizer(grads)\n",
    "    return loss\n",
    "\n",
    "def train(model, dataset):\n",
    "    size = dataset.get_dataset_size()\n",
    "    model.set_train()\n",
    "    for batch, (data, label) in enumerate(dataset.create_tuple_iterator()):\n",
    "        loss = train_step(data, label)\n",
    "\n",
    "        if batch % 100 == 0:\n",
    "            loss, current = loss.asnumpy(), batch\n",
    "            add_scalar(\"loss_100batches\", batch, loss)\n",
    "            print(f\"loss: {loss:>7f}  [{current:>3d}/{size:>3d}]\")\n",
    "\n"
   ]
  },
  {
   "cell_type": "code",
   "execution_count": 26,
   "metadata": {},
   "outputs": [],
   "source": [
    "# 定义测试函数\n",
    "def test(model, dataset, loss_fn, epoch):\n",
    "    num_batches = dataset.get_dataset_size()\n",
    "    model.set_train(False)\n",
    "    total, test_loss, correct = 0, 0, 0\n",
    "    for data, label in dataset.create_tuple_iterator():\n",
    "        pred = model(data)\n",
    "        total += len(data)\n",
    "        test_loss += loss_fn(pred, label).asnumpy()\n",
    "        correct += (pred.argmax(1) == label).asnumpy().sum()\n",
    "    test_loss /= num_batches\n",
    "    correct /= total\n",
    "    # 记录测试损失和准确率\n",
    "    add_scalar(\"test_loss\", epoch, test_loss)\n",
    "    add_scalar(\"accuracy\", epoch, correct * 100)  # 准确率记录为百分比\n",
    "    print(f\"Test: \\n Accuracy: {(100*correct):>0.1f}%, Avg loss: {test_loss:>8f} \\n\")\n"
   ]
  },
  {
   "cell_type": "code",
   "execution_count": 37,
   "metadata": {},
   "outputs": [
    {
     "name": "stdout",
     "output_type": "stream",
     "text": [
      "Epoch 1\n",
      "-------------------------------\n",
      "loss: 0.057766  [  0/938]\n",
      "loss: 0.018664  [100/938]\n",
      "loss: 0.015333  [200/938]\n",
      "loss: 0.005780  [300/938]\n",
      "loss: 0.030585  [400/938]\n",
      "loss: 0.058302  [500/938]\n",
      "loss: 0.011245  [600/938]\n",
      "loss: 0.023308  [700/938]\n",
      "loss: 0.022798  [800/938]\n",
      "loss: 0.022768  [900/938]\n",
      "Test: \n",
      " Accuracy: 98.6%, Avg loss: 0.045053 \n",
      "\n",
      "Epoch 2\n",
      "-------------------------------\n",
      "loss: 0.025303  [  0/938]\n",
      "loss: 0.020217  [100/938]\n",
      "loss: 0.040578  [200/938]\n",
      "loss: 0.007742  [300/938]\n",
      "loss: 0.034534  [400/938]\n",
      "loss: 0.013235  [500/938]\n",
      "loss: 0.003862  [600/938]\n",
      "loss: 0.044205  [700/938]\n",
      "loss: 0.024428  [800/938]\n",
      "loss: 0.028854  [900/938]\n",
      "Test: \n",
      " Accuracy: 98.9%, Avg loss: 0.034058 \n",
      "\n",
      "Epoch 3\n",
      "-------------------------------\n",
      "loss: 0.007700  [  0/938]\n",
      "loss: 0.020927  [100/938]\n",
      "loss: 0.006692  [200/938]\n",
      "loss: 0.042321  [300/938]\n",
      "loss: 0.001679  [400/938]\n",
      "loss: 0.063423  [500/938]\n",
      "loss: 0.020724  [600/938]\n",
      "loss: 0.015198  [700/938]\n",
      "loss: 0.051185  [800/938]\n",
      "loss: 0.013300  [900/938]\n",
      "Test: \n",
      " Accuracy: 98.9%, Avg loss: 0.034468 \n",
      "\n",
      "Epoch 4\n",
      "-------------------------------\n",
      "loss: 0.015292  [  0/938]\n",
      "loss: 0.008579  [100/938]\n",
      "loss: 0.006683  [200/938]\n",
      "loss: 0.014345  [300/938]\n",
      "loss: 0.071912  [400/938]\n",
      "loss: 0.022075  [500/938]\n",
      "loss: 0.028312  [600/938]\n",
      "loss: 0.005725  [700/938]\n",
      "loss: 0.010926  [800/938]\n",
      "loss: 0.093138  [900/938]\n",
      "Test: \n",
      " Accuracy: 98.9%, Avg loss: 0.033649 \n",
      "\n",
      "Epoch 5\n",
      "-------------------------------\n",
      "loss: 0.009449  [  0/938]\n",
      "loss: 0.001236  [100/938]\n",
      "loss: 0.005677  [200/938]\n",
      "loss: 0.022110  [300/938]\n",
      "loss: 0.019013  [400/938]\n",
      "loss: 0.038471  [500/938]\n",
      "loss: 0.013313  [600/938]\n",
      "loss: 0.007349  [700/938]\n",
      "loss: 0.013788  [800/938]\n",
      "loss: 0.090755  [900/938]\n",
      "Test: \n",
      " Accuracy: 98.9%, Avg loss: 0.036146 \n",
      "\n",
      "Done!\n"
     ]
    }
   ],
   "source": [
    "epochs = 5\n",
    "for epoch in range(epochs):\n",
    "    print(f\"Epoch {epoch+1}\\n-------------------------------\")\n",
    "    train(model, train_dataset)\n",
    "    test(model, test_dataset, loss_fn, epoch)\n",
    "print(\"Done!\")\n",
    "log_writer.close()\n"
   ]
  },
  {
   "cell_type": "code",
   "execution_count": 38,
   "metadata": {},
   "outputs": [],
   "source": [
    "mindspore.save_checkpoint(model, \"./lenet/lenet5.ckpt\")"
   ]
  }
 ],
 "metadata": {
  "kernelspec": {
   "display_name": "Ano_LSTM",
   "language": "python",
   "name": "python3"
  },
  "language_info": {
   "codemirror_mode": {
    "name": "ipython",
    "version": 3
   },
   "file_extension": ".py",
   "mimetype": "text/x-python",
   "name": "python",
   "nbconvert_exporter": "python",
   "pygments_lexer": "ipython3",
   "version": "3.7.16"
  }
 },
 "nbformat": 4,
 "nbformat_minor": 2
}
